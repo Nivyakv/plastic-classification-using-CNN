{
  "nbformat": 4,
  "nbformat_minor": 0,
  "metadata": {
    "colab": {
      "provenance": [],
      "gpuType": "T4"
    },
    "kernelspec": {
      "name": "python3",
      "display_name": "Python 3"
    },
    "language_info": {
      "name": "python"
    },
    "accelerator": "GPU"
  },
  "cells": [
    {
      "cell_type": "code",
      "execution_count": 1,
      "metadata": {
        "id": "m3GRhr3ThFC8"
      },
      "outputs": [],
      "source": [
        "import os\n",
        "import cv2\n",
        "import numpy as np\n",
        "import pandas as pd\n",
        "import seaborn as sns\n",
        "import tensorflow as tf\n",
        "#to import data from drive\n",
        "from google.colab import drive\n",
        "from keras.models import Sequential\n",
        "from keras.layers import Conv2D, MaxPooling2D, Flatten, Dense, LeakyReLU\n",
        "from keras.callbacks import EarlyStopping\n",
        "#to display images and graphs\n",
        "import matplotlib.pyplot as plt\n",
        "from keras.layers import Dropout\n",
        "from sklearn.metrics import confusion_matrix, classification_report\n",
        "from keras.callbacks import ReduceLROnPlateau\n",
        "from sklearn.model_selection import train_test_split"
      ]
    },
    {
      "cell_type": "code",
      "source": [
        "#connecting to drive\n",
        "drive.mount('/content/drive')"
      ],
      "metadata": {
        "colab": {
          "base_uri": "https://localhost:8080/"
        },
        "id": "IvtqAO6nhF02",
        "outputId": "500a0da4-f537-474f-b233-e1e2d35e93f5"
      },
      "execution_count": 2,
      "outputs": [
        {
          "output_type": "stream",
          "name": "stdout",
          "text": [
            "Mounted at /content/drive\n"
          ]
        }
      ]
    },
    {
      "cell_type": "code",
      "source": [
        "#path to the data\n",
        "data_directory = '/content/drive/MyDrive/MiniProject'"
      ],
      "metadata": {
        "id": "I-yIPHfRhKtM"
      },
      "execution_count": 3,
      "outputs": []
    },
    {
      "cell_type": "code",
      "source": [
        "# Define the image dimensions\n",
        "img_width, img_height = 128, 128\n",
        "\n",
        "# Define the number of classes\n",
        "num_classes = 2"
      ],
      "metadata": {
        "id": "aAc3UEdthUFO"
      },
      "execution_count": 4,
      "outputs": []
    },
    {
      "cell_type": "code",
      "source": [
        "# Load the images and their labels\n",
        "def load_data(folder):\n",
        "    images = []\n",
        "    labels = []\n",
        "    classes = os.listdir(folder)\n",
        "    for class_name in classes:\n",
        "        class_folder = os.path.join(folder, class_name)\n",
        "        if os.path.isdir(class_folder):\n",
        "            class_label = class_name\n",
        "            for image_name in os.listdir(class_folder):\n",
        "                image_path = os.path.join(class_folder, image_name)\n",
        "                if os.path.isfile(image_path):\n",
        "                    image = cv2.imread(image_path)\n",
        "                    image = cv2.resize(image, (img_width, img_height))\n",
        "                    images.append(image)\n",
        "                    labels.append(class_label)\n",
        "    return np.array(images), np.array(labels)"
      ],
      "metadata": {
        "id": "ftMzXDFEhW4a"
      },
      "execution_count": 5,
      "outputs": []
    },
    {
      "cell_type": "code",
      "source": [
        "# Load the data\n",
        "images, labels = load_data(data_directory)"
      ],
      "metadata": {
        "id": "q0SPoTPkhxbP"
      },
      "execution_count": 6,
      "outputs": []
    },
    {
      "cell_type": "code",
      "source": [
        "# Split the data into training and testing sets\n",
        "x_train, x_test, y_train, y_test = train_test_split(images, labels, test_size=0.2, random_state=0)\n",
        "\n",
        "# Split the training set further into training and validation sets\n",
        "x_train, x_val, y_train, y_val = train_test_split(x_train, y_train, test_size=0.2, random_state=0)"
      ],
      "metadata": {
        "id": "XkHMvp1FjNpw"
      },
      "execution_count": 7,
      "outputs": []
    },
    {
      "cell_type": "code",
      "source": [
        "# Normalize pixel values to the range of [0, 1]\n",
        "x_train = x_train.astype('float32') / 255\n",
        "x_test = x_test.astype('float32') / 255\n",
        "x_val = x_val.astype('float32') / 255"
      ],
      "metadata": {
        "id": "h-yQfUkfiJiC"
      },
      "execution_count": 8,
      "outputs": []
    },
    {
      "cell_type": "code",
      "source": [
        "# Convert the labels to one-hot encoding\n",
        "y_train = tf.one_hot(y_train, num_classes)\n",
        "y_test = tf.one_hot(y_test, num_classes)\n",
        "y_val = tf.one_hot(y_val, num_classes)"
      ],
      "metadata": {
        "id": "D59V8gKNm1wa"
      },
      "execution_count": 9,
      "outputs": []
    },
    {
      "cell_type": "code",
      "source": [
        "# Create the CNN model\n",
        "model = Sequential()"
      ],
      "metadata": {
        "id": "Vy9SbROsm3TJ"
      },
      "execution_count": 10,
      "outputs": []
    },
    {
      "cell_type": "code",
      "source": [
        "model.add(Conv2D(16, (3, 3), input_shape=(img_width, img_height, 3)))\n",
        "model.add(MaxPooling2D((2, 2)))\n",
        "\n",
        "model.add(Conv2D(32, (3, 3), activation='relu'))\n",
        "model.add(MaxPooling2D((2, 2)))\n",
        "\n",
        "model.add(Conv2D(128, (1, 1), activation='relu'))\n",
        "model.add(MaxPooling2D((2, 2)))\n",
        "\n",
        "model.add(Flatten())\n",
        "\n",
        "model.add(Dense(128))\n",
        "model.add(Dropout(0.5))\n",
        "\n",
        "model.add(Dense(num_classes, activation='sigmoid'))"
      ],
      "metadata": {
        "id": "3vCV1rt2nIE9"
      },
      "execution_count": 11,
      "outputs": []
    },
    {
      "cell_type": "code",
      "source": [
        "# Compile the model\n",
        "model.compile(optimizer='adam', loss='categorical_crossentropy', metrics=['accuracy'])"
      ],
      "metadata": {
        "id": "KWcRDw4n0qQ0"
      },
      "execution_count": 12,
      "outputs": []
    },
    {
      "cell_type": "code",
      "source": [
        "# Define the ReduceLROnPlateau callback\n",
        "reduce_lr = ReduceLROnPlateau(monitor='val_loss', factor=0.1, patience=3, verbose=1)"
      ],
      "metadata": {
        "id": "QF5UGgEIO8Ne"
      },
      "execution_count": 13,
      "outputs": []
    },
    {
      "cell_type": "code",
      "source": [
        "# Train the model\n",
        "history = model.fit(x_train, y_train, epochs=50, batch_size=16, validation_data=(x_val, y_val), callbacks=reduce_lr)"
      ],
      "metadata": {
        "id": "Ts9a-4DK0vZ_",
        "colab": {
          "base_uri": "https://localhost:8080/"
        },
        "outputId": "1253cda2-5cd4-4044-e777-e49ae543671b"
      },
      "execution_count": 14,
      "outputs": [
        {
          "output_type": "stream",
          "name": "stdout",
          "text": [
            "Epoch 1/50\n",
            "298/298 [==============================] - 15s 12ms/step - loss: 0.7135 - accuracy: 0.6076 - val_loss: 0.6894 - val_accuracy: 0.5728 - lr: 0.0010\n",
            "Epoch 2/50\n",
            "298/298 [==============================] - 2s 8ms/step - loss: 0.6285 - accuracy: 0.6278 - val_loss: 0.6048 - val_accuracy: 0.6569 - lr: 0.0010\n",
            "Epoch 3/50\n",
            "298/298 [==============================] - 2s 8ms/step - loss: 0.5815 - accuracy: 0.6798 - val_loss: 0.5766 - val_accuracy: 0.6972 - lr: 0.0010\n",
            "Epoch 4/50\n",
            "298/298 [==============================] - 3s 10ms/step - loss: 0.5259 - accuracy: 0.7124 - val_loss: 0.6004 - val_accuracy: 0.7040 - lr: 0.0010\n",
            "Epoch 5/50\n",
            "298/298 [==============================] - 3s 9ms/step - loss: 0.4848 - accuracy: 0.7498 - val_loss: 0.5250 - val_accuracy: 0.7393 - lr: 0.0010\n",
            "Epoch 6/50\n",
            "298/298 [==============================] - 2s 8ms/step - loss: 0.4325 - accuracy: 0.7831 - val_loss: 0.5546 - val_accuracy: 0.7511 - lr: 0.0010\n",
            "Epoch 7/50\n",
            "298/298 [==============================] - 2s 8ms/step - loss: 0.3933 - accuracy: 0.8113 - val_loss: 0.5357 - val_accuracy: 0.7485 - lr: 0.0010\n",
            "Epoch 8/50\n",
            "296/298 [============================>.] - ETA: 0s - loss: 0.3313 - accuracy: 0.8497\n",
            "Epoch 8: ReduceLROnPlateau reducing learning rate to 0.00010000000474974513.\n",
            "298/298 [==============================] - 3s 8ms/step - loss: 0.3314 - accuracy: 0.8500 - val_loss: 0.5875 - val_accuracy: 0.7628 - lr: 0.0010\n",
            "Epoch 9/50\n",
            "298/298 [==============================] - 3s 9ms/step - loss: 0.2477 - accuracy: 0.8961 - val_loss: 0.5603 - val_accuracy: 0.7881 - lr: 1.0000e-04\n",
            "Epoch 10/50\n",
            "298/298 [==============================] - 3s 10ms/step - loss: 0.2180 - accuracy: 0.9139 - val_loss: 0.5773 - val_accuracy: 0.7855 - lr: 1.0000e-04\n",
            "Epoch 11/50\n",
            "295/298 [============================>.] - ETA: 0s - loss: 0.2064 - accuracy: 0.9174\n",
            "Epoch 11: ReduceLROnPlateau reducing learning rate to 1.0000000474974514e-05.\n",
            "298/298 [==============================] - 2s 8ms/step - loss: 0.2061 - accuracy: 0.9173 - val_loss: 0.5908 - val_accuracy: 0.7914 - lr: 1.0000e-04\n",
            "Epoch 12/50\n",
            "298/298 [==============================] - 2s 8ms/step - loss: 0.1920 - accuracy: 0.9259 - val_loss: 0.5916 - val_accuracy: 0.7881 - lr: 1.0000e-05\n",
            "Epoch 13/50\n",
            "298/298 [==============================] - 2s 8ms/step - loss: 0.1894 - accuracy: 0.9283 - val_loss: 0.5945 - val_accuracy: 0.7872 - lr: 1.0000e-05\n",
            "Epoch 14/50\n",
            "295/298 [============================>.] - ETA: 0s - loss: 0.1900 - accuracy: 0.9233\n",
            "Epoch 14: ReduceLROnPlateau reducing learning rate to 1.0000000656873453e-06.\n",
            "298/298 [==============================] - 3s 9ms/step - loss: 0.1903 - accuracy: 0.9230 - val_loss: 0.5974 - val_accuracy: 0.7889 - lr: 1.0000e-05\n",
            "Epoch 15/50\n",
            "298/298 [==============================] - 3s 11ms/step - loss: 0.1865 - accuracy: 0.9262 - val_loss: 0.5977 - val_accuracy: 0.7889 - lr: 1.0000e-06\n",
            "Epoch 16/50\n",
            "298/298 [==============================] - 3s 9ms/step - loss: 0.1880 - accuracy: 0.9268 - val_loss: 0.5978 - val_accuracy: 0.7889 - lr: 1.0000e-06\n",
            "Epoch 17/50\n",
            "294/298 [============================>.] - ETA: 0s - loss: 0.1855 - accuracy: 0.9275\n",
            "Epoch 17: ReduceLROnPlateau reducing learning rate to 1.0000001111620805e-07.\n",
            "298/298 [==============================] - 2s 8ms/step - loss: 0.1855 - accuracy: 0.9274 - val_loss: 0.5981 - val_accuracy: 0.7889 - lr: 1.0000e-06\n",
            "Epoch 18/50\n",
            "298/298 [==============================] - 2s 8ms/step - loss: 0.1833 - accuracy: 0.9295 - val_loss: 0.5982 - val_accuracy: 0.7889 - lr: 1.0000e-07\n",
            "Epoch 19/50\n",
            "298/298 [==============================] - 2s 8ms/step - loss: 0.1820 - accuracy: 0.9293 - val_loss: 0.5982 - val_accuracy: 0.7897 - lr: 1.0000e-07\n",
            "Epoch 20/50\n",
            "297/298 [============================>.] - ETA: 0s - loss: 0.1817 - accuracy: 0.9295\n",
            "Epoch 20: ReduceLROnPlateau reducing learning rate to 1.000000082740371e-08.\n",
            "298/298 [==============================] - 3s 10ms/step - loss: 0.1817 - accuracy: 0.9295 - val_loss: 0.5982 - val_accuracy: 0.7897 - lr: 1.0000e-07\n",
            "Epoch 21/50\n",
            "298/298 [==============================] - 3s 9ms/step - loss: 0.1829 - accuracy: 0.9295 - val_loss: 0.5982 - val_accuracy: 0.7897 - lr: 1.0000e-08\n",
            "Epoch 22/50\n",
            "298/298 [==============================] - 2s 8ms/step - loss: 0.1866 - accuracy: 0.9270 - val_loss: 0.5982 - val_accuracy: 0.7897 - lr: 1.0000e-08\n",
            "Epoch 23/50\n",
            "297/298 [============================>.] - ETA: 0s - loss: 0.1844 - accuracy: 0.9295\n",
            "Epoch 23: ReduceLROnPlateau reducing learning rate to 1.000000082740371e-09.\n",
            "298/298 [==============================] - 2s 8ms/step - loss: 0.1844 - accuracy: 0.9295 - val_loss: 0.5982 - val_accuracy: 0.7897 - lr: 1.0000e-08\n",
            "Epoch 24/50\n",
            "298/298 [==============================] - 3s 9ms/step - loss: 0.1862 - accuracy: 0.9268 - val_loss: 0.5982 - val_accuracy: 0.7897 - lr: 1.0000e-09\n",
            "Epoch 25/50\n",
            "298/298 [==============================] - 3s 10ms/step - loss: 0.1823 - accuracy: 0.9329 - val_loss: 0.5982 - val_accuracy: 0.7897 - lr: 1.0000e-09\n",
            "Epoch 26/50\n",
            "296/298 [============================>.] - ETA: 0s - loss: 0.1859 - accuracy: 0.9297\n",
            "Epoch 26: ReduceLROnPlateau reducing learning rate to 1.000000082740371e-10.\n",
            "298/298 [==============================] - 3s 9ms/step - loss: 0.1860 - accuracy: 0.9297 - val_loss: 0.5982 - val_accuracy: 0.7897 - lr: 1.0000e-09\n",
            "Epoch 27/50\n",
            "298/298 [==============================] - 2s 8ms/step - loss: 0.1843 - accuracy: 0.9306 - val_loss: 0.5982 - val_accuracy: 0.7897 - lr: 1.0000e-10\n",
            "Epoch 28/50\n",
            "298/298 [==============================] - 2s 8ms/step - loss: 0.1858 - accuracy: 0.9287 - val_loss: 0.5982 - val_accuracy: 0.7897 - lr: 1.0000e-10\n",
            "Epoch 29/50\n",
            "293/298 [============================>.] - ETA: 0s - loss: 0.1833 - accuracy: 0.9302\n",
            "Epoch 29: ReduceLROnPlateau reducing learning rate to 1.000000082740371e-11.\n",
            "298/298 [==============================] - 2s 8ms/step - loss: 0.1834 - accuracy: 0.9304 - val_loss: 0.5982 - val_accuracy: 0.7897 - lr: 1.0000e-10\n",
            "Epoch 30/50\n",
            "298/298 [==============================] - 3s 9ms/step - loss: 0.1875 - accuracy: 0.9274 - val_loss: 0.5982 - val_accuracy: 0.7897 - lr: 1.0000e-11\n",
            "Epoch 31/50\n",
            "298/298 [==============================] - 3s 9ms/step - loss: 0.1854 - accuracy: 0.9306 - val_loss: 0.5982 - val_accuracy: 0.7897 - lr: 1.0000e-11\n",
            "Epoch 32/50\n",
            "292/298 [============================>.] - ETA: 0s - loss: 0.1858 - accuracy: 0.9298\n",
            "Epoch 32: ReduceLROnPlateau reducing learning rate to 1.000000082740371e-12.\n",
            "298/298 [==============================] - 3s 8ms/step - loss: 0.1848 - accuracy: 0.9297 - val_loss: 0.5982 - val_accuracy: 0.7897 - lr: 1.0000e-11\n",
            "Epoch 33/50\n",
            "298/298 [==============================] - 3s 8ms/step - loss: 0.1837 - accuracy: 0.9301 - val_loss: 0.5982 - val_accuracy: 0.7897 - lr: 1.0000e-12\n",
            "Epoch 34/50\n",
            "298/298 [==============================] - 3s 8ms/step - loss: 0.1830 - accuracy: 0.9306 - val_loss: 0.5982 - val_accuracy: 0.7897 - lr: 1.0000e-12\n",
            "Epoch 35/50\n",
            "292/298 [============================>.] - ETA: 0s - loss: 0.1854 - accuracy: 0.9302\n",
            "Epoch 35: ReduceLROnPlateau reducing learning rate to 1.0000001044244145e-13.\n",
            "298/298 [==============================] - 3s 9ms/step - loss: 0.1851 - accuracy: 0.9304 - val_loss: 0.5982 - val_accuracy: 0.7897 - lr: 1.0000e-12\n",
            "Epoch 36/50\n",
            "298/298 [==============================] - 3s 10ms/step - loss: 0.1870 - accuracy: 0.9274 - val_loss: 0.5982 - val_accuracy: 0.7897 - lr: 1.0000e-13\n",
            "Epoch 37/50\n",
            "298/298 [==============================] - 3s 10ms/step - loss: 0.1851 - accuracy: 0.9287 - val_loss: 0.5982 - val_accuracy: 0.7897 - lr: 1.0000e-13\n",
            "Epoch 38/50\n",
            "293/298 [============================>.] - ETA: 0s - loss: 0.1840 - accuracy: 0.9300\n",
            "Epoch 38: ReduceLROnPlateau reducing learning rate to 1.0000001179769417e-14.\n",
            "298/298 [==============================] - 3s 10ms/step - loss: 0.1836 - accuracy: 0.9301 - val_loss: 0.5982 - val_accuracy: 0.7897 - lr: 1.0000e-13\n",
            "Epoch 39/50\n",
            "298/298 [==============================] - 2s 8ms/step - loss: 0.1842 - accuracy: 0.9299 - val_loss: 0.5982 - val_accuracy: 0.7897 - lr: 1.0000e-14\n",
            "Epoch 40/50\n",
            "298/298 [==============================] - 3s 10ms/step - loss: 0.1862 - accuracy: 0.9293 - val_loss: 0.5982 - val_accuracy: 0.7897 - lr: 1.0000e-14\n",
            "Epoch 41/50\n",
            "293/298 [============================>.] - ETA: 0s - loss: 0.1808 - accuracy: 0.9313\n",
            "Epoch 41: ReduceLROnPlateau reducing learning rate to 1.0000001518582595e-15.\n",
            "298/298 [==============================] - 3s 11ms/step - loss: 0.1803 - accuracy: 0.9314 - val_loss: 0.5982 - val_accuracy: 0.7897 - lr: 1.0000e-14\n",
            "Epoch 42/50\n",
            "298/298 [==============================] - 2s 8ms/step - loss: 0.1847 - accuracy: 0.9293 - val_loss: 0.5982 - val_accuracy: 0.7897 - lr: 1.0000e-15\n",
            "Epoch 43/50\n",
            "298/298 [==============================] - 3s 9ms/step - loss: 0.1845 - accuracy: 0.9285 - val_loss: 0.5982 - val_accuracy: 0.7897 - lr: 1.0000e-15\n",
            "Epoch 44/50\n",
            "293/298 [============================>.] - ETA: 0s - loss: 0.1866 - accuracy: 0.9290\n",
            "Epoch 44: ReduceLROnPlateau reducing learning rate to 1.0000001095066122e-16.\n",
            "298/298 [==============================] - 2s 8ms/step - loss: 0.1858 - accuracy: 0.9293 - val_loss: 0.5982 - val_accuracy: 0.7897 - lr: 1.0000e-15\n",
            "Epoch 45/50\n",
            "298/298 [==============================] - 3s 9ms/step - loss: 0.1844 - accuracy: 0.9276 - val_loss: 0.5982 - val_accuracy: 0.7897 - lr: 1.0000e-16\n",
            "Epoch 46/50\n",
            "298/298 [==============================] - 3s 10ms/step - loss: 0.1844 - accuracy: 0.9272 - val_loss: 0.5982 - val_accuracy: 0.7897 - lr: 1.0000e-16\n",
            "Epoch 47/50\n",
            "292/298 [============================>.] - ETA: 0s - loss: 0.1837 - accuracy: 0.9279\n",
            "Epoch 47: ReduceLROnPlateau reducing learning rate to 1.0000000830368326e-17.\n",
            "298/298 [==============================] - 3s 9ms/step - loss: 0.1840 - accuracy: 0.9274 - val_loss: 0.5982 - val_accuracy: 0.7897 - lr: 1.0000e-16\n",
            "Epoch 48/50\n",
            "298/298 [==============================] - 2s 8ms/step - loss: 0.1845 - accuracy: 0.9306 - val_loss: 0.5982 - val_accuracy: 0.7897 - lr: 1.0000e-17\n",
            "Epoch 49/50\n",
            "298/298 [==============================] - 3s 8ms/step - loss: 0.1839 - accuracy: 0.9301 - val_loss: 0.5982 - val_accuracy: 0.7897 - lr: 1.0000e-17\n",
            "Epoch 50/50\n",
            "295/298 [============================>.] - ETA: 0s - loss: 0.1855 - accuracy: 0.9294\n",
            "Epoch 50: ReduceLROnPlateau reducing learning rate to 1.0000000664932204e-18.\n",
            "298/298 [==============================] - 3s 9ms/step - loss: 0.1860 - accuracy: 0.9289 - val_loss: 0.5982 - val_accuracy: 0.7897 - lr: 1.0000e-17\n"
          ]
        }
      ]
    },
    {
      "cell_type": "code",
      "source": [
        "fig = plt.figure()\n",
        "plt.plot(history.history['loss'], color='teal', label='loss')\n",
        "plt.plot(history.history['val_loss'], color='orange', label='val_loss')\n",
        "fig.suptitle('Loss', fontsize=20)\n",
        "plt.legend(loc=\"upper left\")\n",
        "plt.show()"
      ],
      "metadata": {
        "id": "RJZa2jfr9pUY",
        "colab": {
          "base_uri": "https://localhost:8080/",
          "height": 478
        },
        "outputId": "361749a5-e583-474e-f55f-a41bf804cba1"
      },
      "execution_count": 15,
      "outputs": [
        {
          "output_type": "display_data",
          "data": {
            "text/plain": [
              "<Figure size 640x480 with 1 Axes>"
            ],
            "image/png": "[encoded data removed]"
          },
          "metadata": {}
        }
      ]
    },
    {
      "cell_type": "code",
      "source": [
        "\n",
        "# Plot the accuracy\n",
        "plt.plot(history.history['accuracy'], label='Training Accuracy')\n",
        "plt.plot(history.history['val_accuracy'], label='Validation Accuracy')\n",
        "plt.xlabel('Epochs')\n",
        "plt.ylabel('Accuracy')\n",
        "plt.title('Accuracy')\n",
        "plt.legend()\n",
        "plt.show()"
      ],
      "metadata": {
        "id": "xFJglBQ99xJO",
        "colab": {
          "base_uri": "https://localhost:8080/",
          "height": 472
        },
        "outputId": "1e941f03-0057-4c67-c863-5a827a3894ce"
      },
      "execution_count": 16,
      "outputs": [
        {
          "output_type": "display_data",
          "data": {
            "text/plain": [
              "<Figure size 640x480 with 1 Axes>"
            ],
            "image/png": "[encoded data removed]"
          },
          "metadata": {}
        }
      ]
    },
    {
      "cell_type": "code",
      "source": [
        "# Test the data using the trained model\n",
        "y_pred = model.predict(x_test)\n",
        "y_pred_labels = np.argmax(y_pred, axis=1)  # Convert predicted probabilities to class labels\n",
        "y_true_labels = np.argmax(y_test, axis=1)  # Convert true labels to class labels"
      ],
      "metadata": {
        "id": "NcwAG1oO07UQ",
        "colab": {
          "base_uri": "https://localhost:8080/"
        },
        "outputId": "f1aba07c-a0ae-42ed-dd56-6863f46eb958"
      },
      "execution_count": 17,
      "outputs": [
        {
          "output_type": "stream",
          "name": "stdout",
          "text": [
            "47/47 [==============================] - 1s 9ms/step\n"
          ]
        }
      ]
    },
    {
      "cell_type": "code",
      "source": [
        "# Evaluate the model\n",
        "loss, accuracy = model.evaluate(x_test, y_test)\n",
        "print('Test loss:', loss)\n",
        "print('Test accuracy:', accuracy)"
      ],
      "metadata": {
        "id": "l1-67joJ34N0",
        "colab": {
          "base_uri": "https://localhost:8080/"
        },
        "outputId": "eb6ee334-2567-40b8-d0d9-2e6ba905dbdf"
      },
      "execution_count": 18,
      "outputs": [
        {
          "output_type": "stream",
          "name": "stdout",
          "text": [
            "47/47 [==============================] - 0s 7ms/step - loss: 0.6018 - accuracy: 0.7948\n",
            "Test loss: 0.601753294467926\n",
            "Test accuracy: 0.794750988483429\n"
          ]
        }
      ]
    },
    {
      "cell_type": "code",
      "source": [
        "# Compute the confusion matrix\n",
        "cm = confusion_matrix(y_true_labels, y_pred_labels)\n",
        "\n",
        "# Create a heatmap of the confusion matrix\n",
        "plt.figure(figsize=(8, 6))\n",
        "sns.heatmap(cm, annot=True, fmt='d', cmap='Blues', cbar=False)\n",
        "plt.xlabel('Predicted Labels')\n",
        "plt.ylabel('True Labels')\n",
        "plt.title('Confusion Matrix')\n",
        "plt.show()"
      ],
      "metadata": {
        "id": "GxYCi9ra7g5W",
        "colab": {
          "base_uri": "https://localhost:8080/",
          "height": 564
        },
        "outputId": "d5dfb36a-55a9-457b-cb6d-f7e6fad3b7aa"
      },
      "execution_count": 19,
      "outputs": [
        {
          "output_type": "display_data",
          "data": {
            "text/plain": [
              "<Figure size 800x600 with 1 Axes>"
            ],
            "image/png": "[encoded data removed]"
          },
          "metadata": {}
        }
      ]
    },
    {
      "cell_type": "code",
      "source": [
        "# Print the classification report\n",
        "report = classification_report(y_true_labels, y_pred_labels)\n",
        "print(report)"
      ],
      "metadata": {
        "id": "7uGJuqOa91fd",
        "colab": {
          "base_uri": "https://localhost:8080/"
        },
        "outputId": "2db50fd1-5a9c-45ee-aa70-f4a1ce770396"
      },
      "execution_count": 20,
      "outputs": [
        {
          "output_type": "stream",
          "name": "stdout",
          "text": [
            "              precision    recall  f1-score   support\n",
            "\n",
            "           0       0.80      0.79      0.80       750\n",
            "           1       0.79      0.80      0.79       736\n",
            "\n",
            "    accuracy                           0.79      1486\n",
            "   macro avg       0.79      0.79      0.79      1486\n",
            "weighted avg       0.79      0.79      0.79      1486\n",
            "\n"
          ]
        }
      ]
    },
    {
      "cell_type": "code",
      "source": [
        "# Save the trained model\n",
        "model.save('RecycleNet3.0.h5')"
      ],
      "metadata": {
        "id": "YBADhlGo8VUZ"
      },
      "execution_count": 21,
      "outputs": []
    }
  ]
}